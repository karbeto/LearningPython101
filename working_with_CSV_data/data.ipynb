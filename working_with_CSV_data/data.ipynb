{
 "cells": [
  {
   "cell_type": "code",
   "execution_count": 2,
   "metadata": {},
   "outputs": [],
   "source": [
    "import pandas as pd\n",
    "import numpy as np\n",
    "import matplotlib as plt\n",
    "import seaborn as sns\n",
    "import warnings \n",
    "warnings.filterwarnings('ignore')"
   ]
  },
  {
   "cell_type": "code",
   "execution_count": 8,
   "metadata": {},
   "outputs": [],
   "source": [
    "data = 'Fortune500.csv'\n",
    "df = pd.read_csv(data)\n"
   ]
  },
  {
   "cell_type": "code",
   "execution_count": null,
   "metadata": {},
   "outputs": [
    {
     "name": "stdout",
     "output_type": "stream",
     "text": [
      "(500, 23)\n"
     ]
    }
   ],
   "source": [
    "print(df.shape)\n",
    "print(df.head())"
   ]
  },
  {
   "cell_type": "code",
   "execution_count": 11,
   "metadata": {},
   "outputs": [
    {
     "name": "stdout",
     "output_type": "stream",
     "text": [
      "<class 'pandas.core.frame.DataFrame'>\n",
      "RangeIndex: 500 entries, 0 to 499\n",
      "Data columns (total 23 columns):\n",
      " #   Column       Non-Null Count  Dtype  \n",
      "---  ------       --------------  -----  \n",
      " 0   Rank         500 non-null    int64  \n",
      " 1   Title        500 non-null    object \n",
      " 2   Website      500 non-null    object \n",
      " 3   Employees    500 non-null    int64  \n",
      " 4   Sector       500 non-null    object \n",
      " 5   Industry     500 non-null    object \n",
      " 6   Hqlocation   500 non-null    object \n",
      " 7   Hqaddr       500 non-null    object \n",
      " 8   Hqcity       500 non-null    object \n",
      " 9   Hqstate      500 non-null    object \n",
      " 10  Hqzip        500 non-null    int64  \n",
      " 11  Hqtel        500 non-null    object \n",
      " 12  Ceo          500 non-null    object \n",
      " 13  Ceo-title    500 non-null    object \n",
      " 14  Address      500 non-null    object \n",
      " 15  Ticker       500 non-null    object \n",
      " 16  Fullname     500 non-null    object \n",
      " 17  Revenues     500 non-null    int64  \n",
      " 18  Revchange    500 non-null    float64\n",
      " 19  Profits      500 non-null    float64\n",
      " 20  Prftchange   500 non-null    object \n",
      " 21  Assets       500 non-null    int64  \n",
      " 22  Totshequity  500 non-null    float64\n",
      "dtypes: float64(3), int64(5), object(15)\n",
      "memory usage: 90.0+ KB\n",
      "None\n"
     ]
    }
   ],
   "source": [
    "print(df.info())"
   ]
  },
  {
   "cell_type": "code",
   "execution_count": 12,
   "metadata": {},
   "outputs": [
    {
     "name": "stdout",
     "output_type": "stream",
     "text": [
      "Rank           0\n",
      "Title          0\n",
      "Website        0\n",
      "Employees      0\n",
      "Sector         0\n",
      "Industry       0\n",
      "Hqlocation     0\n",
      "Hqaddr         0\n",
      "Hqcity         0\n",
      "Hqstate        0\n",
      "Hqzip          0\n",
      "Hqtel          0\n",
      "Ceo            0\n",
      "Ceo-title      0\n",
      "Address        0\n",
      "Ticker         0\n",
      "Fullname       0\n",
      "Revenues       0\n",
      "Revchange      0\n",
      "Profits        0\n",
      "Prftchange     0\n",
      "Assets         0\n",
      "Totshequity    0\n",
      "dtype: int64\n"
     ]
    }
   ],
   "source": [
    "print(df.isnull().sum())"
   ]
  },
  {
   "cell_type": "code",
   "execution_count": null,
   "metadata": {},
   "outputs": [
    {
     "data": {
      "text/html": [
       "<div>\n",
       "<style scoped>\n",
       "    .dataframe tbody tr th:only-of-type {\n",
       "        vertical-align: middle;\n",
       "    }\n",
       "\n",
       "    .dataframe tbody tr th {\n",
       "        vertical-align: top;\n",
       "    }\n",
       "\n",
       "    .dataframe thead th {\n",
       "        text-align: right;\n",
       "    }\n",
       "</style>\n",
       "<table border=\"1\" class=\"dataframe\">\n",
       "  <thead>\n",
       "    <tr style=\"text-align: right;\">\n",
       "      <th></th>\n",
       "      <th>Title</th>\n",
       "      <th>Website</th>\n",
       "      <th>Sector</th>\n",
       "      <th>Industry</th>\n",
       "      <th>Hqlocation</th>\n",
       "      <th>Hqaddr</th>\n",
       "      <th>Hqcity</th>\n",
       "      <th>Hqstate</th>\n",
       "      <th>Hqtel</th>\n",
       "      <th>Ceo</th>\n",
       "      <th>Ceo-title</th>\n",
       "      <th>Address</th>\n",
       "      <th>Ticker</th>\n",
       "      <th>Fullname</th>\n",
       "      <th>Prftchange</th>\n",
       "    </tr>\n",
       "  </thead>\n",
       "  <tbody>\n",
       "    <tr>\n",
       "      <th>count</th>\n",
       "      <td>500</td>\n",
       "      <td>500</td>\n",
       "      <td>500</td>\n",
       "      <td>500</td>\n",
       "      <td>500</td>\n",
       "      <td>500</td>\n",
       "      <td>500</td>\n",
       "      <td>500</td>\n",
       "      <td>500</td>\n",
       "      <td>500</td>\n",
       "      <td>500</td>\n",
       "      <td>500</td>\n",
       "      <td>500</td>\n",
       "      <td>500</td>\n",
       "      <td>500</td>\n",
       "    </tr>\n",
       "    <tr>\n",
       "      <th>unique</th>\n",
       "      <td>500</td>\n",
       "      <td>499</td>\n",
       "      <td>21</td>\n",
       "      <td>73</td>\n",
       "      <td>246</td>\n",
       "      <td>491</td>\n",
       "      <td>239</td>\n",
       "      <td>37</td>\n",
       "      <td>499</td>\n",
       "      <td>496</td>\n",
       "      <td>12</td>\n",
       "      <td>494</td>\n",
       "      <td>468</td>\n",
       "      <td>500</td>\n",
       "      <td>377</td>\n",
       "    </tr>\n",
       "    <tr>\n",
       "      <th>top</th>\n",
       "      <td>Walmart</td>\n",
       "      <td>http://www.abbott.com</td>\n",
       "      <td>Financials</td>\n",
       "      <td>Utilities: Gas and Electric</td>\n",
       "      <td>New York, NY</td>\n",
       "      <td>12300 Liberty Blvd.</td>\n",
       "      <td>New York</td>\n",
       "      <td>NY</td>\n",
       "      <td>650-857-1501</td>\n",
       "      <td>Gregory J. Goff</td>\n",
       "      <td>President, Chief Executive Officer &amp; Director</td>\n",
       "      <td>400 Atlantic St., Stamford, CT 06901</td>\n",
       "      <td>NFLX</td>\n",
       "      <td>Wal-Mart Stores, Inc.</td>\n",
       "      <td>5.2</td>\n",
       "    </tr>\n",
       "    <tr>\n",
       "      <th>freq</th>\n",
       "      <td>1</td>\n",
       "      <td>2</td>\n",
       "      <td>84</td>\n",
       "      <td>22</td>\n",
       "      <td>45</td>\n",
       "      <td>2</td>\n",
       "      <td>45</td>\n",
       "      <td>54</td>\n",
       "      <td>2</td>\n",
       "      <td>2</td>\n",
       "      <td>189</td>\n",
       "      <td>2</td>\n",
       "      <td>3</td>\n",
       "      <td>1</td>\n",
       "      <td>6</td>\n",
       "    </tr>\n",
       "  </tbody>\n",
       "</table>\n",
       "</div>"
      ],
      "text/plain": [
       "          Title                Website      Sector  \\\n",
       "count       500                    500         500   \n",
       "unique      500                    499          21   \n",
       "top     Walmart  http://www.abbott.com  Financials   \n",
       "freq          1                      2          84   \n",
       "\n",
       "                           Industry    Hqlocation               Hqaddr  \\\n",
       "count                           500           500                  500   \n",
       "unique                           73           246                  491   \n",
       "top     Utilities: Gas and Electric  New York, NY  12300 Liberty Blvd.   \n",
       "freq                             22            45                    2   \n",
       "\n",
       "          Hqcity Hqstate         Hqtel              Ceo  \\\n",
       "count        500     500           500              500   \n",
       "unique       239      37           499              496   \n",
       "top     New York      NY  650-857-1501  Gregory J. Goff   \n",
       "freq          45      54             2                2   \n",
       "\n",
       "                                            Ceo-title  \\\n",
       "count                                             500   \n",
       "unique                                             12   \n",
       "top     President, Chief Executive Officer & Director   \n",
       "freq                                              189   \n",
       "\n",
       "                                     Address Ticker               Fullname  \\\n",
       "count                                    500    500                    500   \n",
       "unique                                   494    468                    500   \n",
       "top     400 Atlantic St., Stamford, CT 06901   NFLX  Wal-Mart Stores, Inc.   \n",
       "freq                                       2      3                      1   \n",
       "\n",
       "       Prftchange  \n",
       "count         500  \n",
       "unique        377  \n",
       "top           5.2  \n",
       "freq            6  "
      ]
     },
     "execution_count": 5,
     "metadata": {},
     "output_type": "execute_result"
    }
   ],
   "source": [
    "df.describe(include=('object'))\n",
    "df.describe(include='all')"
   ]
  },
  {
   "cell_type": "code",
   "execution_count": null,
   "metadata": {},
   "outputs": [
    {
     "name": "stdout",
     "output_type": "stream",
     "text": [
      "24111.748\n",
      "56350.132\n"
     ]
    }
   ],
   "source": [
    "mean = df['Revenues'].mean()\n",
    "employee_mean = df['Employees'].mean()\n",
    "print(mean)\n",
    "print(employee_mean)"
   ]
  },
  {
   "cell_type": "code",
   "execution_count": 15,
   "metadata": {},
   "outputs": [
    {
     "name": "stdout",
     "output_type": "stream",
     "text": [
      "11384.0\n",
      "25000.0\n"
     ]
    }
   ],
   "source": [
    "median = df['Revenues'].median()\n",
    "employee_median = df['Employees'].median()\n",
    "print(median)\n",
    "print(employee_median)"
   ]
  },
  {
   "cell_type": "code",
   "execution_count": null,
   "metadata": {},
   "outputs": [],
   "source": [
    "data = df['Revenues']\n",
    "sns.distplot(data, bins=10, hist=True, kde=True, label='Revenue (in millions)')"
   ]
  }
 ],
 "metadata": {
  "kernelspec": {
   "display_name": "base",
   "language": "python",
   "name": "python3"
  },
  "language_info": {
   "codemirror_mode": {
    "name": "ipython",
    "version": 3
   },
   "file_extension": ".py",
   "mimetype": "text/x-python",
   "name": "python",
   "nbconvert_exporter": "python",
   "pygments_lexer": "ipython3",
   "version": "3.12.4"
  }
 },
 "nbformat": 4,
 "nbformat_minor": 2
}
